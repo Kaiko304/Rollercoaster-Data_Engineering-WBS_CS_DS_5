{
 "cells": [
  {
   "cell_type": "markdown",
   "id": "be1f9208-d085-4fe8-a928-46453100c363",
   "metadata": {},
   "source": [
    "Gans Project (module 50)\n",
    "# Settings"
   ]
  },
  {
   "cell_type": "code",
   "execution_count": 1,
   "id": "ee8b2d71-b790-47a4-abed-4d49717f3d51",
   "metadata": {},
   "outputs": [],
   "source": [
    "import pandas as pd\n",
    "import re\n",
    "from bs4 import BeautifulSoup\n",
    "import json\n",
    "import requests\n",
    "import pymysql\n",
    "import sqlalchemy\n",
    "from IPython.display import JSON\n",
    "from datetime import datetime, timedelta\n",
    "from snowmans8key import Lianes_key2 as like\n",
    "from snowmans8key import Open_weather_key as weakey\n",
    "from snowmans8_con import snowcon\n",
    "from sqlroot_con import con\n",
    "# connection to AWS RDS MySQL instance:\n",
    "con = snowcon\n",
    "# connection to mysqlroot server:\n",
    "# con = con"
   ]
  },
  {
   "cell_type": "markdown",
   "id": "2d39e21c-3e42-4343-b36b-5ad9f787d681",
   "metadata": {},
   "source": [
    "# Functions"
   ]
  },
  {
   "cell_type": "markdown",
   "id": "a6be1842-a447-4add-baaa-62198b62a202",
   "metadata": {},
   "source": [
    "## WebScraping Cities"
   ]
  },
  {
   "cell_type": "code",
   "execution_count": 2,
   "id": "03dd8baf-6ba5-47ac-8f2f-be0c7f5d0276",
   "metadata": {
    "tags": []
   },
   "outputs": [],
   "source": [
    "# function convert_geo_coordinates\n",
    "def convert_latitude_longitude_to_decimal(input):\n",
    "    try: # extract all 4 parts from the latitude / longitude string\n",
    "        degrees, minutes, seconds, direction = re.split(\"[^\\d\\w]+\", input)\n",
    "    except: # exception for Hamburg (has only 3 parts)\n",
    "        degrees, minutes, direction = re.split(\"[^\\d\\w]+\", input)\n",
    "        seconds = 0\n",
    "\n",
    "    # transform parts into decimal\n",
    "    decimal_degrees = int(degrees) + int(minutes)/60 + int(seconds)/(60*60)\n",
    "\n",
    "    # change decimal to \"-\" if direction is South or West\n",
    "    if (direction == \"S\" or direction == \"W\"):\n",
    "        decimal_degrees *= -1\n",
    "\n",
    "    return decimal_degrees"
   ]
  },
  {
   "cell_type": "code",
   "execution_count": 3,
   "id": "7e83f935-5454-4078-bec3-6cac3d97dad6",
   "metadata": {
    "tags": []
   },
   "outputs": [],
   "source": [
    "def about_(cities):\n",
    "\n",
    "    city_names = []\n",
    "    countries = []\n",
    "    latitudes = []\n",
    "    longitudes = []\n",
    "    populations = []\n",
    "\n",
    "    for i in cities:\n",
    "        url = (f\"https://en.wikipedia.org/wiki/{i}\")\n",
    "        response = requests.get(url)\n",
    "        soup = BeautifulSoup(response.content, \"html.parser\")\n",
    "\n",
    "        city_names.append(soup.select(\"div.fn.org\")[0].get_text().strip())   # strip\n",
    "        countries.append(soup.select(\".infobox-data\")[0].get_text())\n",
    "        # latitudes.append(soup.select(\"span.latitude\")[0].get_text())\n",
    "        # longitudes.append(soup.select(\"span.longitude\")[0].get_text())\n",
    "        latitudes.append(convert_latitude_longitude_to_decimal(soup.select(\"span.latitude\")[0].get_text())) #lat as decimal\n",
    "        longitudes.append(convert_latitude_longitude_to_decimal(soup.select(\"span.longitude\")[0].get_text())) #lon as deciaml\n",
    "        if soup.select_one('th.infobox-header:-soup-contains(\"Population\")'):\n",
    "            # populations.append(soup.select_one('th.infobox-headercity:-soup-contains(\"Population\")').parent.find_next_sibling().find(string=re.compile(r'\\d+')))\n",
    "            populations.append(int(soup.select_one('th.infobox-header:-soup-contains(\"Population\")').parent.find_next_sibling().find(string=re.compile(r'\\d+')).replace(\",\", \"\")))  # pop without ','\n",
    "            \n",
    "    cities_dict = {\"city_name\":city_names,\n",
    "         \"country\":countries,\n",
    "         \"longitude\":longitudes, \n",
    "         \"latitude\":latitudes,\n",
    "         \"population\":populations}\n",
    "    cities_dict\n",
    "\n",
    "    cities_df = pd.DataFrame(cities_dict)\n",
    "    return cities_df"
   ]
  },
  {
   "cell_type": "markdown",
   "id": "3ac6df69-c04d-4a8b-9b55-1d4a5891feff",
   "metadata": {},
   "source": [
    "## API-key Weather\n"
   ]
  },
  {
   "cell_type": "code",
   "execution_count": 4,
   "id": "cce25b78-e1bc-418f-a8d8-c346ae18e347",
   "metadata": {
    "tags": []
   },
   "outputs": [],
   "source": [
    "def weather_in_(cities_df):\n",
    "\n",
    "    weather_dict = {\"city_name\":[], \"timedate_wea\":[], \"descr_wea\":[], \"temp\":[],\"wind\":[], \"feels_like\":[], \"rain_prob\":[]}\n",
    "\n",
    "    for c in cities_df[\"city_name\"]:\n",
    "        weather = requests.get(f\"https://api.openweathermap.org/data/2.5/forecast?q={c}&appid={weakey}&units=metric\")\n",
    "        weather_json = weather.json()\n",
    "        \n",
    "        for entry in weather_json[\"list\"]:\n",
    "            weather_dict[\"city_name\"].append(weather_json[\"city\"][\"name\"])\n",
    "            weather_dict[\"timedate_wea\"].append(entry[\"dt_txt\"])\n",
    "            weather_dict[\"descr_wea\"].append(entry[\"weather\"][0][\"description\"])\n",
    "            weather_dict[\"temp\"].append(entry[\"main\"][\"temp\"])\n",
    "            weather_dict[\"wind\"].append(entry[\"wind\"][\"speed\"])\n",
    "            weather_dict[\"feels_like\"].append(entry[\"main\"][\"feels_like\"])\n",
    "            weather_dict[\"rain_prob\"].append(entry[\"pop\"])\n",
    "            \n",
    "    weather_df = pd.DataFrame(weather_dict)\n",
    "    \n",
    "    # add city_id to weather_df\n",
    "    # sql_cities = draw_city_id(con)\n",
    "    sql_cities = pd.read_sql_table(\"cities\", con=con)\n",
    "    id_dict = sql_cities.set_index(\"city_name\")[\"city_id\"].to_dict()\n",
    "    weather_df[\"city_id\"] = int(\"0\")\n",
    "\n",
    "    for key, value in id_dict.items():\n",
    "        weather_df.loc[weather_df[\"city_name\"] == key, \"city_id\"] = value\n",
    "\n",
    "    # reorder of columns\n",
    "    reorder = ['city_id', 'city_name', 'timedate_wea', 'descr_wea', 'temp', 'wind', 'feels_like', 'rain_prob']\n",
    "    weather_df = weather_df[reorder]\n",
    "\n",
    "    # data type\n",
    "    weather_df['timedate_wea'] = pd.to_datetime(weather_df['timedate_wea'])\n",
    "\n",
    "    return weather_df"
   ]
  },
  {
   "cell_type": "markdown",
   "id": "39fb1832-def3-49eb-b214-59631d2da1ab",
   "metadata": {},
   "source": [
    "## rapidAPI Airport\n",
    "\n",
    "produce a function, which retrieves tomorrows flight information for the major airports in the cities you web scraped"
   ]
  },
  {
   "cell_type": "code",
   "execution_count": null,
   "id": "b8843096-3b19-4fcc-b930-da78b92507c3",
   "metadata": {},
   "outputs": [],
   "source": [
    "# def city_ID_wi_GEOpandas_(airports_df):"
   ]
  },
  {
   "cell_type": "code",
   "execution_count": 5,
   "id": "b024c21e-af7d-40c7-8ff0-7532e39b3e42",
   "metadata": {
    "tags": []
   },
   "outputs": [],
   "source": [
    "def city_ID_for_(airports_df):\n",
    "    \n",
    "    # sql_cities = draw_city_id(con)\n",
    "    sql_cities = pd.read_sql_table(\"cities\", con=con)\n",
    "\n",
    "    # eine Bogensekunde = 71,5 km E und 111 km N bei 50°\n",
    "    sql_cities.latitude = sql_cities.latitude.round(0)\n",
    "    sql_cities.longitude = sql_cities.longitude.round(0)\n",
    "    airports_df.latitude = airports_df.latitude.round(0)\n",
    "    airports_df.longitude = airports_df.longitude.round(0)\n",
    "\n",
    "    merge = sql_cities.merge(airports_df, how=\"inner\", on=\"latitude\")\n",
    "\n",
    "    reorder = [\"icao\", \"iata\", \"airport_name\", \"city_id\"]\n",
    "    airports_df = merge[reorder]\n",
    "        \n",
    "    return airports_df"
   ]
  },
  {
   "cell_type": "code",
   "execution_count": 6,
   "id": "2526e4a4-b46b-40ff-b23c-b878bce6ddd1",
   "metadata": {
    "tags": []
   },
   "outputs": [],
   "source": [
    "def airports_in_(cities_df):\n",
    "\n",
    "    # prepare storage\n",
    "    airports_dict = {\"icao\":[], \"iata\":[], \"airport_name\":[], \"longitude\":[], \"latitude\":[]}\n",
    "\n",
    "    # iterate over list of cities\n",
    "    for i in range(len(cities_df[\"city_name\"])): # to iterates over rows of df\n",
    "        City = cities_df['city_name'][i]\n",
    "        Longitude = cities_df[\"longitude\"][i]\n",
    "        Latitude = cities_df[\"latitude\"][i]\n",
    "\n",
    "        # get json from rapidAPI\n",
    "        airports = requests.get(f\"https://aerodatabox.p.rapidapi.com/airports/search/location/{Latitude}/{Longitude}/km/50/15\", \n",
    "                       headers={\"X-RapidAPI-Key\": likey,\"X-RapidAPI-Host\": \"aerodatabox.p.rapidapi.com\"}, \n",
    "                       params={\"withFlightInfoOnly\":\"true\"})\n",
    "        airports_json = airports.json()\n",
    "    \n",
    "        # store data in dictionary\n",
    "        for ap in airports_json[\"items\"]:\n",
    "            airports_dict[\"icao\"].append(ap[\"icao\"])\n",
    "            airports_dict[\"iata\"].append(ap[\"iata\"])\n",
    "            airports_dict[\"airport_name\"].append(ap[\"name\"])\n",
    "            airports_dict[\"longitude\"].append(ap[\"location\"][\"lon\"])\n",
    "            airports_dict[\"latitude\"].append(ap[\"location\"][\"lat\"])\n",
    "        \n",
    "    airports_df = pd.DataFrame(airports_dict)\n",
    "    \n",
    "    # calling to add city_ID (and reorder)\n",
    "    airports_df = city_ID_for_(airports_df)\n",
    "    \n",
    "    return airports_df"
   ]
  },
  {
   "cell_type": "markdown",
   "id": "cc8f997c-4f10-4837-a93e-b5af13f779c2",
   "metadata": {},
   "source": [
    "## Flight Informations"
   ]
  },
  {
   "cell_type": "code",
   "execution_count": 7,
   "id": "cdcf7e8d-418a-4ea4-8791-f8caac2fdc3c",
   "metadata": {
    "tags": []
   },
   "outputs": [],
   "source": [
    "def flights_to_(airports_df):\n",
    "    \n",
    "    # prepare storage\n",
    "    flights_dict = {\"flight_nr\":[], \"timedate_arrive\":[], \"timedate_revised\":[], \"status\":[], \"icao\":[], \"data_timestamp\":[]}\n",
    "    \n",
    "    # timerange of 12 hours ahead of 'now': (YYYY-MM-DDTHH:MM)\n",
    "    now = datetime.now()\n",
    "    then12 = now + timedelta(hours=12)\n",
    "    then_str = then12.strftime(\"%Y-%m-%dT%H:%M\")\n",
    "    then = datetime.strptime(then_str, \"%Y-%m-%dT%H:%M\")\n",
    "    n = pd.Timestamp.now()\n",
    "    # oder:\n",
    "    # t = n + pd.Timedelta(hours=12)\n",
    "    # no = n.strftime('%Y-%m-%d %H:%M:%S')\n",
    "    # the = t.strftime('%Y-%m-%d %H:%M:%S')\n",
    "    # now = pd.to_datetime(no)\n",
    "    # then = pd.to_datetime(the)\n",
    "    # print (now, then)\n",
    "    \n",
    "    # iterate over list of airports/ICAOs\n",
    "    for icao in airports_df[\"icao\"]:\n",
    "    \n",
    "        # get json from rapidapi\n",
    "        flights = requests.get(f\"https://aerodatabox.p.rapidapi.com/flights/airports/icao/{icao}/{now}/{then}\",\n",
    "                        headers={\"X-RapidAPI-Key\": likey,\"X-RapidAPI-Host\": \"aerodatabox.p.rapidapi.com\"}, \n",
    "                       params={\"withLeg\":\"false\",\"direction\":\"Arrival\",\"withCancelled\":\"false\",\"withCodeshared\":\"false\"})\n",
    "        flights_json = flights.json()\n",
    "\n",
    "        # iterate over all arrivals and store data in dictionary \n",
    "        for arrival in flights_json[\"arrivals\"]:\n",
    "            flights_dict[\"flight_nr\"].append(arrival.get(\"number\", None))\n",
    "            flights_dict[\"timedate_arrive\"].append(arrival.get(\"movement\", {}).get(\"scheduledTime\", {}).get(\"local\", None))\n",
    "            flights_dict[\"timedate_revised\"].append(arrival.get(\"movement\", {}).get(\"revisedTime\", {}).get(\"local\", None))       # nested .get()\n",
    "            flights_dict[\"status\"].append(arrival.get(\"status\", None))\n",
    "            flights_dict[\"icao\"].append(icao)\n",
    "            # flights_dict[\"aircraft\"].append(arrival[\"aircraft\"][\"model\"]))\n",
    "            flights_dict[\"data_timestamp\"].append(now)\n",
    "    \n",
    "    flights_df = pd.DataFrame(flights_dict)\n",
    "        \n",
    "    # to timedate format       \n",
    "    flights_df['timedate_arrive'] = pd.to_datetime(flights_df.timedate_arrive)\n",
    "    flights_df['timedate_revised'] = pd.to_datetime(flights_df.timedate_revised)\n",
    "    flights_df['data_timestamp'] = pd.to_datetime(flights_df.data_timestamp)\n",
    "    # If you want to remove the time zone information altogether and have a naive datetime    -grrr- ???\n",
    "    flights_df['timedate_arrive'] = flights_df['timedate_arrive'].dt.tz_localize(None)\n",
    "    flights_df['timedate_revised'] = flights_df['timedate_revised'].dt.tz_localize(None)\n",
    "    flights_df['data_timestamp'] = flights_df['data_timestamp'].dt.tz_localize(None)\n",
    "\n",
    "    # return result\n",
    "    return flights_df"
   ]
  },
  {
   "cell_type": "markdown",
   "id": "4f8814e0-6f0d-4e33-a4f9-a192ab9d2013",
   "metadata": {},
   "source": [
    "# Calling Functions & Push"
   ]
  },
  {
   "cell_type": "code",
   "execution_count": 8,
   "id": "8a2a7bda-1647-4f9f-9bd5-7dcc5a7438ec",
   "metadata": {
    "tags": []
   },
   "outputs": [
    {
     "data": {
      "text/plain": [
       "381"
      ]
     },
     "execution_count": 8,
     "metadata": {},
     "output_type": "execute_result"
    }
   ],
   "source": [
    "# input\n",
    "cities = [\"Potsdam\", \"Freising\"]#, \"Hanau\"] #\"Aachen\", \"Bremen\", \"Copenhagen\", \"Dresden\", \"Bonn\", \"Erfurt\", \"Freiburg_im_Breisgau\", \"Heidelberg\", \"Karlsruhe\", \"Kassel\", \"Kiel\", \"Koblenz\", \"Leipzig\", \"Magdeburg\", \"Mainz\", \"Mannheim\", \"Nürnberg\", \"Potsdam\", \"Regensburg\", \"Rostock\", \"Trier\", \"Wiesbaden\", \"Yaroslavl\"]\n",
    "\n",
    "# call & push:\n",
    "# --cities\n",
    "cities_df = about_(cities)\n",
    "cities_df.to_sql('cities',\n",
    "              if_exists='append',\n",
    "              con=con,\n",
    "              index=False)\n",
    "\n",
    "# --weather\n",
    "weather_df = weather_in_(cities_df)\n",
    "weather_df.to_sql('weather',\n",
    "              if_exists='append',\n",
    "              con=con,\n",
    "              index=False)\n",
    "\n",
    "# --airports\n",
    "airports_df = airports_in_(cities_df)\n",
    "airports_df.to_sql('airports',\n",
    "              if_exists='append',\n",
    "              con=con,\n",
    "              index=False)\n",
    "\n",
    "# --flights\n",
    "flights_df = flights_to_(airports_df)\n",
    "flights_df.to_sql('flights',\n",
    "              if_exists='append',\n",
    "              con=con,\n",
    "              index=False)"
   ]
  }
 ],
 "metadata": {
  "kernelspec": {
   "display_name": "Python 3 (ipykernel)",
   "language": "python",
   "name": "python3"
  },
  "language_info": {
   "codemirror_mode": {
    "name": "ipython",
    "version": 3
   },
   "file_extension": ".py",
   "mimetype": "text/x-python",
   "name": "python",
   "nbconvert_exporter": "python",
   "pygments_lexer": "ipython3",
   "version": "3.11.5"
  },
  "toc-autonumbering": true
 },
 "nbformat": 4,
 "nbformat_minor": 5
}
